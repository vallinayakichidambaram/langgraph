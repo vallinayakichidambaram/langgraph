{
 "cells": [
  {
   "cell_type": "code",
   "execution_count": 21,
   "id": "8864f7f4",
   "metadata": {},
   "outputs": [],
   "source": [
    "from typing import Dict, TypedDict, List\n",
    "from langgraph.graph import StateGraph\n",
    "from functools import reduce"
   ]
  },
  {
   "cell_type": "code",
   "execution_count": 22,
   "id": "99c6edb0",
   "metadata": {},
   "outputs": [],
   "source": [
    "class AgentState(TypedDict):\n",
    "    name: str\n",
    "    values: List[int]\n",
    "    operation: str\n",
    "    result: str"
   ]
  },
  {
   "cell_type": "code",
   "execution_count": null,
   "id": "7b3bc268",
   "metadata": {},
   "outputs": [],
   "source": [
    "def calculate_data(state: AgentState) -> AgentState:\n",
    "    \"\"\"Use this node to calculate based on user's choice\"\"\"\n",
    "    print(state)\n",
    "    if(state[\"operation\"] == \"+\"):\n",
    "        state[\"result\"] = \"Hi \" + state[\"name\"] +\", your answer is \" + str(sum(state[\"values\"]))\n",
    "    \n",
    "    if(state[\"operation\"] == \"*\"):\n",
    "        state[\"result\"] = \"Hi \" + state[\"name\"] +\", your answer is \" + str(reduce((lambda x, y: x * y), state[\"values\"]))\n",
    "\n",
    "    print(state)\n",
    "    return state\n"
   ]
  },
  {
   "cell_type": "code",
   "execution_count": 29,
   "id": "3e6c314c",
   "metadata": {},
   "outputs": [],
   "source": [
    "graph = StateGraph(AgentState)\n",
    "graph.add_node(\"calculator\", calculate_data)\n",
    "graph.set_entry_point(\"calculator\")\n",
    "graph.set_finish_point(\"calculator\")\n",
    "\n",
    "app =graph.compile()\n"
   ]
  },
  {
   "cell_type": "code",
   "execution_count": 30,
   "id": "09de313c",
   "metadata": {},
   "outputs": [
    {
     "data": {
      "image/png": "[encoded data removed]",
      "text/plain": [
       "<IPython.core.display.Image object>"
      ]
     },
     "metadata": {},
     "output_type": "display_data"
    }
   ],
   "source": [
    "from IPython.display import Image, display\n",
    "display(Image(app.get_graph().draw_mermaid_png()))"
   ]
  },
  {
   "cell_type": "code",
   "execution_count": 32,
   "id": "7154bca9",
   "metadata": {},
   "outputs": [
    {
     "name": "stdout",
     "output_type": "stream",
     "text": [
      "{'name': 'Valli', 'values': [1, 4, 7, 8], 'operation': '*'}\n",
      "{'name': 'Valli', 'values': [1, 4, 7, 8], 'operation': '*', 'result': 'Hi Valli, your answer is 224'}\n",
      "Hi Valli, your answer is 224\n"
     ]
    }
   ],
   "source": [
    "result = app.invoke({\n",
    "    \"name\": \"Valli\",\n",
    "    \"values\": [1,4,7,8],\n",
    "    \"operation\": \"*\"\n",
    "})\n",
    "\n",
    "print(result[\"result\"])"
   ]
  },
  {
   "cell_type": "code",
   "execution_count": 14,
   "id": "6f7cf166",
   "metadata": {},
   "outputs": [
    {
     "name": "stdout",
     "output_type": "stream",
     "text": [
      "Multiplication of the given list :  126\n"
     ]
    }
   ],
   "source": [
    "from functools import reduce\n",
    "mylist = [1,3,6,7]\n",
    "result = reduce((lambda x, y: x * y), mylist)\n",
    "print(\"Multiplication of the given list : \", result)"
   ]
  }
 ],
 "metadata": {
  "kernelspec": {
   "display_name": ".venv",
   "language": "python",
   "name": "python3"
  },
  "language_info": {
   "codemirror_mode": {
    "name": "ipython",
    "version": 3
   },
   "file_extension": ".py",
   "mimetype": "text/x-python",
   "name": "python",
   "nbconvert_exporter": "python",
   "pygments_lexer": "ipython3",
   "version": "3.13.3"
  }
 },
 "nbformat": 4,
 "nbformat_minor": 5
}
