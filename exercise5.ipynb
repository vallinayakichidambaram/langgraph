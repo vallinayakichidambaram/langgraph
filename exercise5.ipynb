{
 "cells": [
  {
   "cell_type": "code",
   "execution_count": 2,
   "id": "6c7694e9",
   "metadata": {},
   "outputs": [],
   "source": [
    "from typing import Dict, TypedDict, List\n",
    "from langgraph.graph import StateGraph, START, END\n",
    "import random"
   ]
  },
  {
   "cell_type": "code",
   "execution_count": 21,
   "id": "17693f79",
   "metadata": {},
   "outputs": [],
   "source": [
    "class AgentState(TypedDict):\n",
    "    name: str\n",
    "    guesses: List[int]\n",
    "    lower_bound: int\n",
    "    upper_bound: int\n",
    "    attempts: int\n",
    "    answer: int\n",
    "\n",
    "\n",
    "def setup_node(state: AgentState) -> AgentState:\n",
    "    \"\"\"This is the setup node\"\"\"\n",
    "    state[\"attempts\"] = 0\n",
    "    state[\"guesses\"] = []\n",
    "    state[\"lower_bound\"] = 1\n",
    "    state[\"upper_bound\"] = 20\n",
    "    # state[\"answer\"] = random.randint(1,20)\n",
    "\n",
    "    return state\n",
    "\n",
    "def guess_node(state: AgentState) -> AgentState:\n",
    "    \"\"\"This is the node to guess random number\"\"\"\n",
    "    state[\"guesses\"].append(random.randint(state[\"lower_bound\"], state[\"upper_bound\"]))\n",
    "    state[\"attempts\"] +=1\n",
    "    if(state[\"guesses\"][-1] < state[\"answer\"]):\n",
    "        print(\"Higher!\")\n",
    "        state[\"lower_bound\"] = state[\"guesses\"][-1]\n",
    "    elif(state[\"guesses\"][-1] > state[\"answer\"]):\n",
    "        print(\"Lower!\")\n",
    "        state[\"upper_bound\"] = state[\"guesses\"][-1]\n",
    "    return state\n",
    "\n",
    "def next_step(state: AgentState):\n",
    "    \"\"\"This the node that decides the next step\"\"\"\n",
    "    print(\"inside next_step\")\n",
    "    if(state[\"guesses\"][-1] == state[\"answer\"]):\n",
    "        return \"END\"\n",
    "    elif(state[\"attempts\"] >= 7):\n",
    "        return \"END\"\n",
    "    else: \n",
    "        print(\"Looping\")\n",
    "        return \"loop\""
   ]
  },
  {
   "cell_type": "code",
   "execution_count": 22,
   "id": "ea46a598",
   "metadata": {},
   "outputs": [],
   "source": [
    "graph = StateGraph(AgentState)\n",
    "graph.add_node(\"setup_node\", setup_node)\n",
    "graph.add_node(\"guess_node\", guess_node)\n",
    "graph.add_edge(START, \"setup_node\")\n",
    "graph.add_edge(\"setup_node\", \"guess_node\")\n",
    "graph.add_conditional_edges(\n",
    "    \"guess_node\",\n",
    "    next_step,\n",
    "    {\n",
    "        \"loop\": \"guess_node\",\n",
    "        \"END\": END\n",
    "    }\n",
    ")\n",
    "\n",
    "app=graph.compile()\n"
   ]
  },
  {
   "cell_type": "code",
   "execution_count": 23,
   "id": "b706ff5b",
   "metadata": {},
   "outputs": [
    {
     "data": {
      "image/png": "[encoded data removed]",
      "text/plain": [
       "<IPython.core.display.Image object>"
      ]
     },
     "metadata": {},
     "output_type": "display_data"
    }
   ],
   "source": [
    "from IPython.display import Image, display\n",
    "display(Image(app.get_graph().draw_mermaid_png()))"
   ]
  },
  {
   "cell_type": "code",
   "execution_count": 27,
   "id": "66509fd4",
   "metadata": {},
   "outputs": [
    {
     "name": "stdout",
     "output_type": "stream",
     "text": [
      "Lower!\n",
      "inside next_step\n",
      "Looping\n",
      "Lower!\n",
      "inside next_step\n",
      "Looping\n",
      "Higher!\n",
      "inside next_step\n",
      "Looping\n",
      "Higher!\n",
      "inside next_step\n",
      "Looping\n",
      "inside next_step\n",
      "{'name': 'Valli', 'guesses': [15, 9, 7, 7, 8], 'lower_bound': 7, 'upper_bound': 9, 'attempts': 5, 'answer': 8}\n"
     ]
    }
   ],
   "source": [
    "result = app.invoke({\n",
    "    \"name\": \"Valli\",\n",
    "    \"answer\": 8\n",
    "})\n",
    "\n",
    "print(result)"
   ]
  }
 ],
 "metadata": {
  "kernelspec": {
   "display_name": ".venv",
   "language": "python",
   "name": "python3"
  },
  "language_info": {
   "codemirror_mode": {
    "name": "ipython",
    "version": 3
   },
   "file_extension": ".py",
   "mimetype": "text/x-python",
   "name": "python",
   "nbconvert_exporter": "python",
   "pygments_lexer": "ipython3",
   "version": "3.13.3"
  }
 },
 "nbformat": 4,
 "nbformat_minor": 5
}
