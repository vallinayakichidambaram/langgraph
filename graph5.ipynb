{
 "cells": [
  {
   "cell_type": "code",
   "execution_count": 10,
   "id": "de76b9f1",
   "metadata": {},
   "outputs": [],
   "source": [
    "# Looping in Langgraph\n",
    "\n",
    "from typing import Dict, TypedDict, List\n",
    "import random\n",
    "from langgraph.graph import StateGraph, START, END"
   ]
  },
  {
   "cell_type": "code",
   "execution_count": 11,
   "id": "be155659",
   "metadata": {},
   "outputs": [],
   "source": [
    "class AgentState(TypedDict):\n",
    "    name: str\n",
    "    numbers: List[int]\n",
    "    counter: int\n",
    "\n",
    "def greeting_node(state: AgentState) -> AgentState:\n",
    "    \"\"\"Use this node to greet the user\"\"\"\n",
    "    state['name'] = f\"Hey there! {state[\"name\"]}\"\n",
    "    state['counter'] = 0\n",
    "    return state\n",
    "\n",
    "def random_node(state: AgentState) -> AgentState:\n",
    "    \"\"\"This is the node that generates random number for the user\"\"\"\n",
    "    state['numbers'].append(random.randint(0,10))\n",
    "    state[\"counter\"] +=1\n",
    "    return state\n",
    "\n",
    "\n",
    "def next_step(state: AgentState):\n",
    "    \"\"\"This is the node that decides the next step\"\"\"\n",
    "    if(state[\"counter\"] < 5):\n",
    "        return \"loop\"\n",
    "    else:\n",
    "        return \"END\""
   ]
  },
  {
   "cell_type": "code",
   "execution_count": 12,
   "id": "b688b697",
   "metadata": {},
   "outputs": [],
   "source": [
    "graph = StateGraph(AgentState)\n",
    "graph.add_node(\"greet_node\", greeting_node)\n",
    "graph.add_node(\"random_node\",random_node)\n",
    "\n",
    "graph.add_edge(START, \"greet_node\")\n",
    "graph.add_edge(\"greet_node\", \"random_node\")\n",
    "\n",
    "graph.add_conditional_edges(\n",
    "    \"random_node\",\n",
    "    next_step,\n",
    "    {\n",
    "        \"loop\": \"random_node\",\n",
    "        \"END\": END\n",
    "    }\n",
    ")\n",
    "\n",
    "app= graph.compile()"
   ]
  },
  {
   "cell_type": "code",
   "execution_count": 13,
   "id": "a351d159",
   "metadata": {},
   "outputs": [
    {
     "data": {
      "image/png": "[encoded data removed]",
      "text/plain": [
       "<IPython.core.display.Image object>"
      ]
     },
     "metadata": {},
     "output_type": "display_data"
    }
   ],
   "source": [
    "from IPython.display import Image, display\n",
    "display(Image(app.get_graph().draw_mermaid_png()))"
   ]
  },
  {
   "cell_type": "code",
   "execution_count": 14,
   "id": "4f808779",
   "metadata": {},
   "outputs": [
    {
     "name": "stdout",
     "output_type": "stream",
     "text": [
      "{'name': 'Hey there! Valli', 'numbers': [9, 10, 3, 5, 6], 'counter': 5}\n"
     ]
    }
   ],
   "source": [
    "result = app.invoke({\n",
    "    \"name\": \"Valli\",\n",
    "    \"counter\": -4,\n",
    "    \"numbers\": []\n",
    "})\n",
    "\n",
    "print(result)"
   ]
  }
 ],
 "metadata": {
  "kernelspec": {
   "display_name": ".venv",
   "language": "python",
   "name": "python3"
  },
  "language_info": {
   "codemirror_mode": {
    "name": "ipython",
    "version": 3
   },
   "file_extension": ".py",
   "mimetype": "text/x-python",
   "name": "python",
   "nbconvert_exporter": "python",
   "pygments_lexer": "ipython3",
   "version": "3.13.3"
  }
 },
 "nbformat": 4,
 "nbformat_minor": 5
}
