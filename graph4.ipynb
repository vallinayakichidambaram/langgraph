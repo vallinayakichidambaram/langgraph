{
 "cells": [
  {
   "cell_type": "code",
   "execution_count": 4,
   "id": "8e9f5486",
   "metadata": {},
   "outputs": [],
   "source": [
    "# Conditional Routing\n",
    "from typing import Dict, TypedDict\n",
    "from langgraph.graph import StateGraph, START, END"
   ]
  },
  {
   "cell_type": "code",
   "execution_count": 11,
   "id": "947d0723",
   "metadata": {},
   "outputs": [],
   "source": [
    "class AgentState(TypedDict):\n",
    "    number1: int\n",
    "    number2: int\n",
    "    operation: str\n",
    "    final_result: int\n",
    "\n",
    "def add_node(state: AgentState) -> AgentState:\n",
    "    \"\"\"Use this node to add two numbers\"\"\"\n",
    "    state['final_result'] = state[\"number1\"] + state[\"number2\"]\n",
    "    return state\n",
    "\n",
    "def sub_node(state: AgentState) -> AgentState:\n",
    "    \"\"\"Use this node to subtract two numbers\"\"\"\n",
    "    state[\"final_result\"] = state[\"number1\"] - state[\"number2\"]\n",
    "    return state\n",
    "\n",
    "def decision_node(state: AgentState):\n",
    "    \"\"\"This is the decision node\"\"\"\n",
    "    if(state[\"operation\"] == \"+\"):\n",
    "        return \"addition_node\"\n",
    "    elif(state[\"operation\"] == \"-\"):\n",
    "        return \"subtraction_node\"\n",
    "    \n"
   ]
  },
  {
   "cell_type": "code",
   "execution_count": 12,
   "id": "d06d9c61",
   "metadata": {},
   "outputs": [],
   "source": [
    "graph = StateGraph(AgentState)\n",
    "graph.add_node(\"add_node\", add_node)\n",
    "graph.add_node(\"sub_node\", sub_node)\n",
    "graph.add_node(\"router\", lambda state: state)\n",
    "\n",
    "graph.add_edge(START, \"router\")\n",
    "graph.add_conditional_edges(\n",
    "    \"router\",\n",
    "    decision_node,\n",
    "    {\n",
    "        \"addition_node\": \"add_node\",\n",
    "        \"subtraction_node\": \"sub_node\"\n",
    "    }\n",
    ")\n",
    "\n",
    "graph.add_edge(\"add_node\", END)\n",
    "graph.add_edge(\"sub_node\", END)\n",
    "app = graph.compile()"
   ]
  },
  {
   "cell_type": "code",
   "execution_count": 13,
   "id": "c1935043",
   "metadata": {},
   "outputs": [
    {
     "data": {
      "image/png": "[encoded data removed]",
      "text/plain": [
       "<IPython.core.display.Image object>"
      ]
     },
     "metadata": {},
     "output_type": "display_data"
    }
   ],
   "source": [
    "from IPython.display import Image, display\n",
    "\n",
    "display(Image(app.get_graph().draw_mermaid_png()))"
   ]
  },
  {
   "cell_type": "code",
   "execution_count": 14,
   "id": "0e54a595",
   "metadata": {},
   "outputs": [
    {
     "name": "stdout",
     "output_type": "stream",
     "text": [
      "{'number1': 5, 'number2': 3, 'operation': '-', 'final_result': 2}\n"
     ]
    }
   ],
   "source": [
    "result = app.invoke({\n",
    "    \"number1\": 5,\n",
    "    \"number2\": 3,\n",
    "    \"operation\": \"-\"\n",
    "})\n",
    "\n",
    "print(result)"
   ]
  }
 ],
 "metadata": {
  "kernelspec": {
   "display_name": ".venv",
   "language": "python",
   "name": "python3"
  },
  "language_info": {
   "codemirror_mode": {
    "name": "ipython",
    "version": 3
   },
   "file_extension": ".py",
   "mimetype": "text/x-python",
   "name": "python",
   "nbconvert_exporter": "python",
   "pygments_lexer": "ipython3",
   "version": "3.13.3"
  }
 },
 "nbformat": 4,
 "nbformat_minor": 5
}
